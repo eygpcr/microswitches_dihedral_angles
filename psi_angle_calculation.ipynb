{
 "cells": [
  {
   "cell_type": "code",
   "execution_count": null,
   "id": "b71b56ba",
   "metadata": {},
   "outputs": [],
   "source": [
    "# Calculating the Psi_Angle\n",
    "\n",
    "import MDAnalysis as mda\n",
    "from MDAnalysis.lib.distances import calc_angles\n",
    "import matplotlib.pyplot as plt\n",
    "import numpy as np\n",
    "\n",
    "def get_psi_atoms(residue):\n",
    "    next_residue_idx = residue.resindices[0] + 1\n",
    "    N_next = u.select_atoms(f\"resid {next_residue_idx} and name N\").positions\n",
    "    CA = residue.atoms.select_atoms(\"name CA\").positions\n",
    "    C = residue.atoms.select_atoms(\"name C\").positions\n",
    "    return CA, C, N_next\n",
    "\n",
    "# Load your protein structure and trajectory\n",
    "u = mda.Universe('your_file.gro', 'your_file.xtc')\n",
    "\n",
    "# Select the residue for which you want to calculate the psi angle\n",
    "residue = u.select_atoms('resid 00')\n",
    "\n",
    "# Initialize a list to store psi angle data\n",
    "psi_data = []\n",
    "\n",
    "# Iterate over the frames in the trajectory\n",
    "frame_indices = []\n",
    "for i, ts in enumerate(u.trajectory):\n",
    "    # Calculate the psi angle\n",
    "    psi_atoms = get_psi_atoms(residue)\n",
    "    if len(psi_atoms[2]) > 0:\n",
    "        psi_angle = np.rad2deg(calc_angles(*psi_atoms))\n",
    "        # Append the angle to the data list\n",
    "        psi_data.append(psi_angle)\n",
    "        frame_indices.append(i)\n",
    "\n",
    "# Convert the lists to arrays\n",
    "psi_data = np.array(psi_data)\n",
    "frame_indices = np.array(frame_indices)\n",
    "\n",
    "# Save the frame indices and psi angles to a .dat file\n",
    "plot_data = np.column_stack((frame_indices, psi_data))\n",
    "np.savetxt('psi_angles_plot_data_resname.dat', plot_data)\n",
    "\n",
    "# Plot the psi angles\n",
    "plt.figure()\n",
    "plt.plot(frame_indices, psi_data)\n",
    "plt.xlabel('Frame')\n",
    "plt.ylabel('Psi Angle (degrees)')\n",
    "plt.title('Psi Angle of RES00')\n",
    "plt.show()\n"
   ]
  }
 ],
 "metadata": {
  "kernelspec": {
   "display_name": "Python 3 (ipykernel)",
   "language": "python",
   "name": "python3"
  },
  "language_info": {
   "codemirror_mode": {
    "name": "ipython",
    "version": 3
   },
   "file_extension": ".py",
   "mimetype": "text/x-python",
   "name": "python",
   "nbconvert_exporter": "python",
   "pygments_lexer": "ipython3",
   "version": "3.8.16"
  }
 },
 "nbformat": 4,
 "nbformat_minor": 5
}
