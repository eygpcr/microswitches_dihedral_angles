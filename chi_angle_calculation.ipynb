{
 "cells": [
  {
   "cell_type": "code",
   "execution_count": null,
   "id": "364fbaf0",
   "metadata": {},
   "outputs": [],
   "source": [
    "# Calculating the Chi1_Angle\n",
    "\n",
    "import MDAnalysis as mda\n",
    "from MDAnalysis.lib.distances import calc_dihedrals\n",
    "import matplotlib.pyplot as plt\n",
    "import numpy as np\n",
    "\n",
    "def get_chi1_atoms(residue):\n",
    "    N = residue.atoms.select_atoms(\"name N\").positions\n",
    "    CA = residue.atoms.select_atoms(\"name CA\").positions\n",
    "    CB = residue.atoms.select_atoms(\"name CB\").positions\n",
    "    CG = residue.atoms.select_atoms(\"name CG\").positions\n",
    "    return N, CA, CB, CG\n",
    "\n",
    "# Load your protein structure and trajectory\n",
    "u = mda.Universe('your_file.gro', 'your_file.xtc')\n",
    "\n",
    "# Select the residue for which you want to calculate the chi1 angle\n",
    "residue = u.select_atoms('resid 00')\n",
    "\n",
    "# Initialize a list to store chi1 angle data\n",
    "chi1_data = []\n",
    "\n",
    "# Iterate over the frames in the trajectory\n",
    "frame_indices = []\n",
    "for i, ts in enumerate(u.trajectory):\n",
    "    # Calculate the chi1 angle\n",
    "    chi1_atoms = get_chi1_atoms(residue)\n",
    "    \n",
    "    # Make sure all required atoms are present\n",
    "    if all(len(atom_group) > 0 for atom_group in chi1_atoms):\n",
    "        chi1_angle = np.rad2deg(calc_dihedrals(*chi1_atoms))\n",
    "        # Append the angle to the data list\n",
    "        chi1_data.append(chi1_angle)\n",
    "        frame_indices.append(i)\n",
    "\n",
    "# Convert the lists to arrays\n",
    "chi1_data = np.array(chi1_data)\n",
    "frame_indices = np.array(frame_indices)\n",
    "\n",
    "# Save the frame indices and chi1 angles to a .dat file\n",
    "plot_data = np.column_stack((frame_indices, chi1_data))\n",
    "np.savetxt('chi1_angles_plot_data_resname.dat', plot_data)\n",
    "\n",
    "# Plot the chi1 angles\n",
    "plt.figure()\n",
    "plt.plot(frame_indices, chi1_data)\n",
    "plt.xlabel('Frame')\n",
    "plt.ylabel('Chi1 Angle (degrees)')\n",
    "plt.title('Chi1 Angle of RES00')\n",
    "plt.show()\n"
   ]
  }
 ],
 "metadata": {
  "kernelspec": {
   "display_name": "Python 3 (ipykernel)",
   "language": "python",
   "name": "python3"
  },
  "language_info": {
   "codemirror_mode": {
    "name": "ipython",
    "version": 3
   },
   "file_extension": ".py",
   "mimetype": "text/x-python",
   "name": "python",
   "nbconvert_exporter": "python",
   "pygments_lexer": "ipython3",
   "version": "3.8.16"
  }
 },
 "nbformat": 4,
 "nbformat_minor": 5
}
