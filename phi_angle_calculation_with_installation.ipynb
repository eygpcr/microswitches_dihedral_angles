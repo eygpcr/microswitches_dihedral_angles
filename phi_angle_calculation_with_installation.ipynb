{
  "cells": [
    {
      "cell_type": "markdown",
      "metadata": {
        "id": "view-in-github",
        "colab_type": "text"
      },
      "source": [
        "<a href=\"https://colab.research.google.com/github/eygpcr/microswitches-dihedral-angles/blob/main/phi_angle_calculation.ipynb\" target=\"_parent\"><img src=\"https://colab.research.google.com/assets/colab-badge.svg\" alt=\"Open In Colab\"/></a>"
      ]
    },
    {
      "cell_type": "markdown",
      "metadata": {
        "id": "introduction"
      },
      "source": [
        "# Phi Angle Calculation"
      ]
    },
    {
      "cell_type": "markdown",
      "metadata": {
        "id": "description"
      },
      "source": [
        "This notebook calculates the **Phi Angle** for a specified residue in a protein trajectory using [MDAnalysis](https://www.mdanalysis.org/) and Python."
      ]
    },
    {
      "cell_type": "markdown",
      "metadata": {
        "id": "install-mdanalysis"
      },
      "source": [
        "## Installing MDAnalysis\n\n",
        "To install **MDAnalysis**, use the following command in your environment:\n",
        "```python\n",
        "!pip install MDAnalysis\n",
        "```\n",
        "This command will install all the required dependencies for MDAnalysis to work in Google Colab or your local Python environment."
      ]
    },
    {
      "cell_type": "code",
      "execution_count": null,
      "id": "f5ddd3d0",
      "metadata": {},
      "outputs": [],
      "source": [
        "# Calculating the Phi_Angle\n",
        "\n",
        "import MDAnalysis as mda\n",
        "from MDAnalysis.lib.distances import calc_angles\n",
        "import matplotlib.pyplot as plt\n",
        "import numpy as np\n",
        "\n",
        "def get_phi_atoms(residue):\n",
        "    prev_residue_idx = residue.resindices[0] - 1\n",
        "    C_prev = u.select_atoms(f\"resid {prev_residue_idx} and name C\").positions\n",
        "    N = residue.atoms.select_atoms(\"name N\").positions\n",
        "    CA = residue.atoms.select_atoms(\"name CA\").positions\n",
        "    return C_prev, N, CA\n",
        "\n",
        "# Load your protein structure and trajectory\n",
        "u = mda.Universe('your_file.gro', 'your_file.xtc')\n",
        "\n",
        "# Select the residue for which you want to calculate the phi angle\n",
        "residue = u.select_atoms('resid 00')\n",
        "\n",
        "# Initialize a list to store phi angle data\n",
        "phi_data = []\n",
        "\n",
        "# Iterate over the frames in the trajectory\n",
        "frame_indices = []\n",
        "for i, ts in enumerate(u.trajectory):\n",
        "    # Calculate the phi angle\n",
        "    phi_atoms = get_phi_atoms(residue)\n",
        "    if len(phi_atoms[0]) > 0:\n",
        "        phi_angle = np.rad2deg(calc_angles(*phi_atoms))\n",
        "        # Append the angle to the data list\n",
        "        phi_data.append(phi_angle)\n",
        "        frame_indices.append(i)\n",
        "\n",
        "# Convert the lists to arrays\n",
        "phi_data = np.array(phi_data)\n",
        "frame_indices = np.array(frame_indices)\n",
        "\n",
        "# Save the frame indices and phi angles to a .dat file\n",
        "plot_data = np.column_stack((frame_indices, phi_data))\n",
        "np.savetxt('phi_angles_plot_data_resname.dat', plot_data)\n",
        "\n",
        "# Plot the phi angles\n",
        "plt.figure()\n",
        "plt.plot(frame_indices, phi_data)\n",
        "plt.xlabel('Frame')\n",
        "plt.ylabel('Phi Angle (degrees)')\n",
        "plt.title('Phi Angle of RES00')\n",
        "plt.show()"
      ]
    }
  ],
  "metadata": {
    "kernelspec": {
      "display_name": "Python 3",
      "language": "python",
      "name": "python3"
    },
    "language_info": {
      "codemirror_mode": {
        "name": "ipython",
        "version": 3
      },
      "file_extension": ".py",
      "mimetype": "text/x-python",
      "name": "python",
      "nbconvert_exporter": "python",
      "pygments_lexer": "ipython3",
      "version": "3.8.16"
    },
    "colab": {
      "provenance": [],
      "include_colab_link": true
    }
  },
  "nbformat": 4,
  "nbformat_minor": 0
}